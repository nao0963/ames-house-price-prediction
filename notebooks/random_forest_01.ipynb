{
 "cells": [
  {
   "cell_type": "code",
   "execution_count": null,
   "id": "6a9709b5",
   "metadata": {},
   "outputs": [],
   "source": [
    "import pandas as pd\n",
    "import pickle\n",
    "import numpy as np\n",
    "from sklearn.ensemble import RandomForestRegressor\n",
    "from sklearn.model_selection import cross_val_score\n",
    "from sklearn.metrics import mean_squared_error\n",
    "\n",
    "# df_selected_05.pkl 파일 불러오기\n",
    "with open('df_selected_05.pkl', 'rb') as f:\n",
    "    df = pickle.load(f)\n",
    "\n",
    "print(\"데이터프레임 로드 완료\")\n",
    "print(f\"데이터프레임 형태: {df.shape}\")\n",
    "print(f\"컬럼: {list(df.columns)}\")\n",
    "\n",
    "# X, y 분리 (SalePrice를 y로, 나머지를 X로)\n",
    "y = df['SalePrice']\n",
    "X = df.drop('SalePrice', axis=1)\n",
    "\n",
    "print(f\"\\nX 형태: {X.shape}\")\n",
    "print(f\"y 형태: {y.shape}\")\n",
    "\n",
    "# RandomForestRegressor 모델 생성\n",
    "rf_model = RandomForestRegressor(random_state=42)\n",
    "\n",
    "# 5-fold 교차검증으로 R² 스코어 계산\n",
    "r2_scores = cross_val_score(rf_model, X, y, cv=5, scoring='r2', random_state=42)\n",
    "\n",
    "# 5-fold 교차검증으로 RMSE 계산 (neg_mean_squared_error를 사용하고 루트를 씌움)\n",
    "mse_scores = cross_val_score(rf_model, X, y, cv=5, scoring='neg_mean_squared_error', random_state=42)\n",
    "rmse_scores = np.sqrt(-mse_scores)  # 음수를 양수로 변환 후 루트\n",
    "\n",
    "# 평균과 표준편차 계산\n",
    "r2_mean = r2_scores.mean()\n",
    "r2_std = r2_scores.std()\n",
    "rmse_mean = rmse_scores.mean()\n",
    "rmse_std = rmse_scores.std()\n",
    "\n",
    "# 결과 출력\n",
    "print(\"\\n=== 5-fold 교차 검증 결과 ===\")\n",
    "print(f\"R² 평균: {r2_mean:.4f} (±{r2_std:.4f})\")\n",
    "print(f\"RMSE 평균: {rmse_mean:.4f} (±{rmse_std:.4f})\")\n",
    "print()\n"
   ]
  }
 ],
 "metadata": {
  "language_info": {
   "name": "python"
  }
 },
 "nbformat": 4,
 "nbformat_minor": 5
}
