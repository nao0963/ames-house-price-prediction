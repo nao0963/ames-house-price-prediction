{
 "cells": [
  {
   "cell_type": "markdown",
   "id": "c6ef6fcd",
   "metadata": {},
   "source": [
    "# Feature Grouping\n",
    "\n",
    "This notebook focuses on creating grouped features based on existing categorical and numerical features to enhance model performance and enable hypothesis validation.\n",
    "\n",
    "## What we will do:\n",
    "1. Adding NeighborhoodGroup feature (Price-based quartiles)\n",
    "2. Adding AgeGroup feature\n",
    "3. Adding QualityGroup feature\n",
    "4. Adding SizeGroup feature\n",
    "5. Data validation and summary\n"
   ]
  },
  {
   "cell_type": "code",
   "execution_count": 62,
   "id": "fd85038c",
   "metadata": {},
   "outputs": [],
   "source": [
    "import pandas as pd\n",
    "import numpy as np\n",
    "import matplotlib.pyplot as plt\n",
    "import seaborn as sns\n",
    "import warnings\n",
    "warnings.filterwarnings('ignore')"
   ]
  },
  {
   "cell_type": "code",
   "execution_count": 63,
   "id": "45f65bda",
   "metadata": {},
   "outputs": [],
   "source": [
    "pd.set_option('display.max_columns', None)\n",
    "pd.set_option('display.max_rows', 100)\n",
    "plt.style.use('default')\n"
   ]
  },
  {
   "cell_type": "code",
   "execution_count": 64,
   "id": "409ca94d",
   "metadata": {},
   "outputs": [
    {
     "name": "stdout",
     "output_type": "stream",
     "text": [
      "Shape: (1458, 90)\n",
      "\n",
      "Count of 'category' dtype columns: 47\n"
     ]
    }
   ],
   "source": [
    "# Load the feature engineered data from previous notebook\n",
    "# Note: This assumes the feature engineering notebook has been run first\n",
    "data_path = '../../data/processed/feature_engineered_df.pkl'\n",
    "df = pd.read_pickle(data_path)\n",
    "\n",
    "print(f\"Shape: {df.shape}\")\n",
    "# Check if the data types are preserved; category type columns should be 47\n",
    "print(\"\\nCount of 'category' dtype columns:\", (df.dtypes == 'category').sum())\n"
   ]
  },
  {
   "cell_type": "markdown",
   "id": "10bfa4d7",
   "metadata": {},
   "source": [
    "## 1. Adding NeighborhoodGroup feature (Price-based quartiles)\n"
   ]
  },
  {
   "cell_type": "code",
   "execution_count": 83,
   "id": "d114d7f6",
   "metadata": {},
   "outputs": [
    {
     "name": "stdout",
     "output_type": "stream",
     "text": [
      "Quartile thresholds: Q1=$132,509, Q3=$218,972\n",
      "Groups: Premium(6), Middle(11), Budget(6), None(2)\n"
     ]
    }
   ],
   "source": [
    "# Create NeighborhoodGroup feature based on price quartiles\n",
    "# Calculate average price by neighborhood\n",
    "neighborhood_prices = df.groupby('Neighborhood').agg({\n",
    "    'SalePrice': ['mean', 'count']\n",
    "}).round(0)\n",
    "neighborhood_prices.columns = ['Avg_Price', 'House_Count']\n",
    "\n",
    "# Calculate quartiles based on neighborhoods with 10+ houses only\n",
    "valid_neighborhoods = neighborhood_prices[neighborhood_prices['House_Count'] >= 10]\n",
    "q25 = valid_neighborhoods['Avg_Price'].quantile(0.25)\n",
    "q75 = valid_neighborhoods['Avg_Price'].quantile(0.75)\n",
    "\n",
    "print(f\"Quartile thresholds: Q1=${q25:,.0f}, Q3=${q75:,.0f}\")\n",
    "\n",
    "# Create groups (None for < 10 houses)\n",
    "neighborhood_groups = {}\n",
    "for neighborhood, row in neighborhood_prices.iterrows():\n",
    "    if row['House_Count'] < 10:\n",
    "        neighborhood_groups[neighborhood] = None\n",
    "    elif row['Avg_Price'] > q75:\n",
    "        neighborhood_groups[neighborhood] = 'Premium'\n",
    "    elif row['Avg_Price'] < q25:\n",
    "        neighborhood_groups[neighborhood] = 'Budget'\n",
    "    else:\n",
    "        neighborhood_groups[neighborhood] = 'Middle'\n",
    "\n",
    "print(f\"Groups: Premium({sum(1 for g in neighborhood_groups.values() if g == 'Premium')}), \"\n",
    "      f\"Middle({sum(1 for g in neighborhood_groups.values() if g == 'Middle')}), \"\n",
    "      f\"Budget({sum(1 for g in neighborhood_groups.values() if g == 'Budget')}), \"\n",
    "      f\"None({sum(1 for g in neighborhood_groups.values() if g is None)})\")\n"
   ]
  },
  {
   "cell_type": "code",
   "execution_count": 66,
   "id": "c042c667",
   "metadata": {},
   "outputs": [],
   "source": [
    "# Apply the mapping to create NeighborhoodGroup feature\n",
    "df['NeighborhoodGroup'] = df['Neighborhood'].map(neighborhood_groups)\n",
    "# Convert to category type\n",
    "df['NeighborhoodGroup'] = df['NeighborhoodGroup'].astype('category')\n"
   ]
  },
  {
   "cell_type": "code",
   "execution_count": 84,
   "id": "df7b0c1e",
   "metadata": {},
   "outputs": [
    {
     "name": "stdout",
     "output_type": "stream",
     "text": [
      "NeighborhoodGroup value counts:\n",
      "NeighborhoodGroup\n",
      "Middle     830\n",
      "Budget     339\n",
      "Premium    278\n",
      "NaN         11\n",
      "Name: count, dtype: int64\n",
      "\n",
      "Null values: 11 (neighborhoods with < 10 houses)\n",
      "Excluded: NPkVill, Blueste\n",
      "\n",
      "Price ranges by group:\n",
      "Premium: $225,380 - $335,295\n",
      "Middle: $136,793 - $212,565\n",
      "Budget: $98,576 - $128,225\n"
     ]
    }
   ],
   "source": [
    "# Check NeighborhoodGroup results\n",
    "print(\"NeighborhoodGroup value counts:\")\n",
    "print(df['NeighborhoodGroup'].value_counts(dropna=False))\n",
    "\n",
    "null_count = df['NeighborhoodGroup'].isnull().sum()\n",
    "print(f\"\\nNull values: {null_count} (neighborhoods with < 10 houses)\")\n",
    "\n",
    "if null_count > 0:\n",
    "    excluded = df[df['NeighborhoodGroup'].isnull()]['Neighborhood'].unique()\n",
    "    print(f\"Excluded: {', '.join(excluded)}\")\n",
    "else:\n",
    "    print(\"✅ No null values found in NeighborhoodGroup feature!\")\n",
    "\n",
    "# Show price range for each group\n",
    "print(f\"\\nPrice ranges by group:\")\n",
    "for group in ['Premium', 'Middle', 'Budget']:\n",
    "    group_neighborhoods = [n for n, g in neighborhood_groups.items() if g == group]\n",
    "    if group_neighborhoods:\n",
    "        prices = [neighborhood_prices.loc[n, 'Avg_Price'] for n in group_neighborhoods]\n",
    "        print(f\"{group}: ${min(prices):,.0f} - ${max(prices):,.0f}\")\n"
   ]
  },
  {
   "cell_type": "markdown",
   "id": "975828ea",
   "metadata": {},
   "source": [
    "## 2. Adding AgeGroup feature \n"
   ]
  },
  {
   "cell_type": "code",
   "execution_count": 68,
   "id": "8811b4c4",
   "metadata": {},
   "outputs": [
    {
     "name": "stdout",
     "output_type": "stream",
     "text": [
      "HouseAge distribution:\n",
      "count    1458.000000\n",
      "mean       36.598080\n",
      "std        30.240565\n",
      "min         0.000000\n",
      "25%         8.000000\n",
      "50%        35.000000\n",
      "75%        54.000000\n",
      "max       136.000000\n",
      "Name: HouseAge, dtype: float64\n",
      "\n",
      "HouseAge percentiles:\n",
      "10th percentile: 1.0 years\n",
      "25th percentile: 8.0 years\n",
      "50th percentile: 35.0 years\n",
      "75th percentile: 54.0 years\n",
      "90th percentile: 84.0 years\n"
     ]
    }
   ],
   "source": [
    "# First, examine HouseAge distribution to understand the data\n",
    "print(\"HouseAge distribution:\")\n",
    "print(df['HouseAge'].describe())\n",
    "print(\"\\nHouseAge percentiles:\")\n",
    "percentiles = [10, 25, 50, 75, 90]\n",
    "for p in percentiles:\n",
    "    print(f\"{p}th percentile: {np.percentile(df['HouseAge'], p):.1f} years\")\n"
   ]
  },
  {
   "cell_type": "code",
   "execution_count": 69,
   "id": "2cf2621a",
   "metadata": {},
   "outputs": [
    {
     "name": "stdout",
     "output_type": "stream",
     "text": [
      "AgeGroup feature created successfully!\n"
     ]
    }
   ],
   "source": [
    "# Create AgeGroup feature based on housing market characteristics\n",
    "def create_age_groups(house_age):\n",
    "    \"\"\"\n",
    "    Create age groups based on housing market characteristics:\n",
    "    - New: 0-10 years (modern features, warranty period)\n",
    "    - Recent: 11-25 years (contemporary design, good condition)\n",
    "    - Mature: 26-50 years (established neighborhoods, may need updates)\n",
    "    - Old: 51+ years (historic charm, potential renovation needs)\n",
    "    \"\"\"\n",
    "    if house_age <= 10:\n",
    "        return 'New'\n",
    "    elif house_age <= 25:\n",
    "        return 'Recent'\n",
    "    elif house_age <= 50:\n",
    "        return 'Mature'\n",
    "    else:\n",
    "        return 'Old'\n",
    "\n",
    "# Apply the function to create AgeGroup\n",
    "df['AgeGroup'] = df['HouseAge'].apply(create_age_groups)\n",
    "\n",
    "# Convert to category type for efficiency\n",
    "df['AgeGroup'] = df['AgeGroup'].astype('category')\n",
    "\n",
    "# Set the order for logical progression\n",
    "df['AgeGroup'] = df['AgeGroup'].cat.reorder_categories(['New', 'Recent', 'Mature', 'Old'])\n",
    "\n",
    "print(\"AgeGroup feature created successfully!\")\n"
   ]
  },
  {
   "cell_type": "code",
   "execution_count": 70,
   "id": "75cec4f9",
   "metadata": {},
   "outputs": [
    {
     "name": "stdout",
     "output_type": "stream",
     "text": [
      "AgeGroup distribution:\n",
      "AgeGroup\n",
      "New       432\n",
      "Recent    158\n",
      "Mature    429\n",
      "Old       439\n",
      "Name: count, dtype: int64\n",
      "\n",
      "AgeGroup percentage distribution:\n",
      "New: 29.6%\n",
      "Recent: 10.8%\n",
      "Mature: 29.4%\n",
      "Old: 30.1%\n",
      "\n",
      "Average SalePrice per AgeGroup:\n",
      "New: $239,260\n",
      "Recent: $226,378\n",
      "Mature: $153,917\n",
      "Old: $133,580\n"
     ]
    }
   ],
   "source": [
    "# Verify the AgeGroup creation\n",
    "print(\"AgeGroup distribution:\")\n",
    "print(df['AgeGroup'].value_counts().sort_index())\n",
    "\n",
    "# Show percentage distribution\n",
    "print(\"\\nAgeGroup percentage distribution:\")\n",
    "age_group_pct = df['AgeGroup'].value_counts(normalize=True).sort_index() * 100\n",
    "for group, pct in age_group_pct.items():\n",
    "    print(f\"{group}: {pct:.1f}%\")\n",
    "\n",
    "# Show average SalePrice for each AgeGroup\n",
    "print(\"\\nAverage SalePrice per AgeGroup:\")\n",
    "agegroup_price_avg = df.groupby('AgeGroup', observed=False)['SalePrice'].mean().sort_index()\n",
    "for group, avg in agegroup_price_avg.items():\n",
    "    print(f\"{group}: ${avg:,.0f}\")\n",
    "\n"
   ]
  },
  {
   "cell_type": "markdown",
   "id": "5881543a",
   "metadata": {},
   "source": [
    "## 3. Adding QualityGroup feature\n"
   ]
  },
  {
   "cell_type": "code",
   "execution_count": 71,
   "id": "0576a99b",
   "metadata": {},
   "outputs": [
    {
     "name": "stdout",
     "output_type": "stream",
     "text": [
      "OverallQual distribution:\n",
      "OverallQual\n",
      "1       2\n",
      "2       3\n",
      "3      20\n",
      "4     116\n",
      "5     397\n",
      "6     374\n",
      "7     319\n",
      "8     168\n",
      "9      43\n",
      "10     16\n",
      "Name: count, dtype: int64\n",
      "\n",
      "OverallQual correlation with SalePrice: 0.796\n"
     ]
    }
   ],
   "source": [
    "# Examine OverallQual distribution\n",
    "print(\"OverallQual distribution:\")\n",
    "print(df['OverallQual'].value_counts().sort_index())\n",
    "\n",
    "# Check correlation with SalePrice for meaningful grouping\n",
    "quality_price_corr = df['OverallQual'].corr(df['SalePrice'])\n",
    "print(f\"\\nOverallQual correlation with SalePrice: {quality_price_corr:.3f}\")\n"
   ]
  },
  {
   "cell_type": "code",
   "execution_count": 72,
   "id": "1679c690",
   "metadata": {},
   "outputs": [
    {
     "name": "stdout",
     "output_type": "stream",
     "text": [
      "QualityGroup feature created successfully!\n"
     ]
    }
   ],
   "source": [
    "# Create QualityGroup feature for analysis\n",
    "def create_quality_groups(overall_qual):\n",
    "    \"\"\"\n",
    "    Group OverallQual into meaningful categories:\n",
    "    - Basic: 1-4 (Below average to fair)\n",
    "    - Standard: 5-6 (Average to above average)\n",
    "    - Premium: 7-8 (Good to very good)\n",
    "    - Luxury: 9-10 (Excellent to very excellent)\n",
    "    \"\"\"\n",
    "    if overall_qual <= 4:\n",
    "        return 'Basic'\n",
    "    elif overall_qual <= 6:\n",
    "        return 'Standard'\n",
    "    elif overall_qual <= 8:\n",
    "        return 'Premium'\n",
    "    else:\n",
    "        return 'Luxury'\n",
    "\n",
    "# Apply the function\n",
    "df['QualityGroup'] = df['OverallQual'].apply(create_quality_groups)\n",
    "\n",
    "# Convert to category type with logical order\n",
    "df['QualityGroup'] = df['QualityGroup'].astype('category')\n",
    "df['QualityGroup'] = df['QualityGroup'].cat.reorder_categories(['Basic', 'Standard', 'Premium', 'Luxury'])\n",
    "\n",
    "print(\"QualityGroup feature created successfully!\")\n"
   ]
  },
  {
   "cell_type": "code",
   "execution_count": 73,
   "id": "3eceda80",
   "metadata": {},
   "outputs": [
    {
     "name": "stdout",
     "output_type": "stream",
     "text": [
      "QualityGroup distribution:\n",
      "QualityGroup\n",
      "Basic       141\n",
      "Standard    771\n",
      "Premium     487\n",
      "Luxury       59\n",
      "Name: count, dtype: int64\n",
      "\n",
      "QualityGroup percentage distribution:\n",
      "Basic: 9.7%\n",
      "Standard: 52.9%\n",
      "Premium: 33.4%\n",
      "Luxury: 4.0%\n",
      "\n",
      "Average SalePrice by QualityGroup:\n",
      "Basic: $103,418\n",
      "Standard: $147,144\n",
      "Premium: $230,836\n",
      "Luxury: $395,812\n"
     ]
    }
   ],
   "source": [
    "# Validate QualityGroup creation\n",
    "print(\"QualityGroup distribution:\")\n",
    "print(df['QualityGroup'].value_counts().sort_index())\n",
    "\n",
    "# Show percentage distribution\n",
    "print(\"\\nQualityGroup percentage distribution:\")\n",
    "quality_group_pct = df['QualityGroup'].value_counts(normalize=True).sort_index() * 100\n",
    "for group, pct in quality_group_pct.items():\n",
    "    print(f\"{group}: {pct:.1f}%\")\n",
    "\n",
    "# Show average SalePrice by QualityGroup\n",
    "print(\"\\nAverage SalePrice by QualityGroup:\")\n",
    "quality_price_avg = df.groupby('QualityGroup')['SalePrice'].mean().sort_index()\n",
    "for group, avg_price in quality_price_avg.items():\n",
    "    print(f\"{group}: ${avg_price:,.0f}\")\n"
   ]
  },
  {
   "cell_type": "markdown",
   "id": "a74cf792",
   "metadata": {},
   "source": [
    "## 4. Adding SizeGroup feature\n"
   ]
  },
  {
   "cell_type": "code",
   "execution_count": 74,
   "id": "615b548f",
   "metadata": {},
   "outputs": [
    {
     "name": "stdout",
     "output_type": "stream",
     "text": [
      "GrLivArea distribution:\n",
      "count    1458.000000\n",
      "mean     1510.465706\n",
      "std       507.878508\n",
      "min       334.000000\n",
      "25%      1128.500000\n",
      "50%      1461.500000\n",
      "75%      1776.000000\n",
      "max      4476.000000\n",
      "Name: GrLivArea, dtype: float64\n",
      "\n",
      "GrLivArea percentiles:\n",
      "25th percentile: 1128 sq ft\n",
      "50th percentile: 1462 sq ft\n",
      "75th percentile: 1776 sq ft\n",
      "90th percentile: 2156 sq ft\n"
     ]
    }
   ],
   "source": [
    "# Examine GrLivArea distribution for meaningful size grouping\n",
    "print(\"GrLivArea distribution:\")\n",
    "print(df['GrLivArea'].describe())\n",
    "\n",
    "# Check percentiles for grouping decisions\n",
    "print(\"\\nGrLivArea percentiles:\")\n",
    "percentiles = [25, 50, 75, 90]\n",
    "for p in percentiles:\n",
    "    print(f\"{p}th percentile: {np.percentile(df['GrLivArea'], p):.0f} sq ft\")\n"
   ]
  },
  {
   "cell_type": "code",
   "execution_count": 75,
   "id": "59b457d8",
   "metadata": {},
   "outputs": [
    {
     "name": "stdout",
     "output_type": "stream",
     "text": [
      "SizeGroup feature created successfully!\n"
     ]
    }
   ],
   "source": [
    "# Create SizeGroup feature based on living area\n",
    "def create_size_groups(gr_liv_area):\n",
    "    \"\"\"\n",
    "    Group houses by living area size:\n",
    "    - Compact: < 1200 sq ft (small homes, condos)\n",
    "    - Medium: 1200-1800 sq ft (typical family homes)\n",
    "    - Large: 1800-2500 sq ft (spacious homes)\n",
    "    - Mansion: > 2500 sq ft (luxury homes)\n",
    "    \"\"\"\n",
    "    if gr_liv_area < 1200:\n",
    "        return 'Compact'\n",
    "    elif gr_liv_area < 1800:\n",
    "        return 'Medium'\n",
    "    elif gr_liv_area < 2500:\n",
    "        return 'Large'\n",
    "    else:\n",
    "        return 'Mansion'\n",
    "\n",
    "# Apply the function\n",
    "df['SizeGroup'] = df['GrLivArea'].apply(create_size_groups)\n",
    "\n",
    "# Convert to category type with logical order\n",
    "df['SizeGroup'] = df['SizeGroup'].astype('category')\n",
    "df['SizeGroup'] = df['SizeGroup'].cat.reorder_categories(['Compact', 'Medium', 'Large', 'Mansion'])\n",
    "\n",
    "print(\"SizeGroup feature created successfully!\")\n"
   ]
  },
  {
   "cell_type": "code",
   "execution_count": 76,
   "id": "e8e62695",
   "metadata": {},
   "outputs": [
    {
     "name": "stdout",
     "output_type": "stream",
     "text": [
      "SizeGroup distribution:\n",
      "SizeGroup\n",
      "Compact    426\n",
      "Medium     690\n",
      "Large      274\n",
      "Mansion     68\n",
      "Name: count, dtype: int64\n",
      "\n",
      "SizeGroup percentage distribution:\n",
      "Compact: 29.2%\n",
      "Medium: 47.3%\n",
      "Large: 18.8%\n",
      "Mansion: 4.7%\n",
      "\n",
      "Average SalePrice by SizeGroup:\n",
      "Compact: $121,067\n",
      "Medium: $178,018\n",
      "Large: $243,420\n",
      "Mansion: $333,774\n"
     ]
    }
   ],
   "source": [
    "# Validate SizeGroup creation\n",
    "print(\"SizeGroup distribution:\")\n",
    "print(df['SizeGroup'].value_counts().sort_index())\n",
    "\n",
    "# Show percentage distribution\n",
    "print(\"\\nSizeGroup percentage distribution:\")\n",
    "size_group_pct = df['SizeGroup'].value_counts(normalize=True).sort_index() * 100\n",
    "for group, pct in size_group_pct.items():\n",
    "    print(f\"{group}: {pct:.1f}%\")\n",
    "\n",
    "# Show average SalePrice by SizeGroup\n",
    "print(\"\\nAverage SalePrice by SizeGroup:\")\n",
    "size_price_avg = df.groupby('SizeGroup', observed=True)['SalePrice'].mean().sort_index()\n",
    "for group, avg_price in size_price_avg.items():\n",
    "    print(f\"{group}: ${avg_price:,.0f}\")\n"
   ]
  },
  {
   "cell_type": "markdown",
   "id": "46edac77",
   "metadata": {},
   "source": [
    "## 4. Adding AreaPerSpace feature"
   ]
  },
  {
   "cell_type": "markdown",
   "id": "aeedb6b1",
   "metadata": {},
   "source": [
    "## 5. Data validation and summary\n"
   ]
  },
  {
   "cell_type": "code",
   "execution_count": 77,
   "id": "96e52d2a",
   "metadata": {},
   "outputs": [
    {
     "name": "stdout",
     "output_type": "stream",
     "text": [
      "Final dataset shape: (1458, 94)\n",
      "\n",
      "Total category columns: 51\n",
      "\n",
      "New grouped features created:\n",
      "✓ NeighborhoodGroup: 3 categories\n",
      "✓ AgeGroup: 4 categories\n",
      "✓ QualityGroup: 4 categories\n",
      "✓ SizeGroup: 4 categories\n",
      "\n",
      "Null values in new features:\n",
      "NeighborhoodGroup: 11 nulls\n",
      "AgeGroup: 0 nulls\n",
      "QualityGroup: 0 nulls\n",
      "SizeGroup: 0 nulls\n"
     ]
    }
   ],
   "source": [
    "# Check final shape and new features\n",
    "print(f\"Final dataset shape: {df.shape}\")\n",
    "print(f\"\\nTotal category columns: {(df.dtypes == 'category').sum()}\")\n",
    "\n",
    "# List all new grouped features\n",
    "new_features = ['NeighborhoodGroup', 'AgeGroup', 'QualityGroup', 'SizeGroup']\n",
    "print(\"\\nNew grouped features created:\")\n",
    "for feature in new_features:\n",
    "    if feature in df.columns:\n",
    "        print(f\"✓ {feature}: {df[feature].nunique()} categories\")\n",
    "    else:\n",
    "        print(f\"✗ {feature}: Not found\")\n",
    "\n",
    "# Check for any null values in new features\n",
    "print(\"\\nNull values in new features:\")\n",
    "for feature in new_features:\n",
    "    if feature in df.columns:\n",
    "        null_count = df[feature].isnull().sum()\n",
    "        print(f\"{feature}: {null_count} nulls\")\n"
   ]
  },
  {
   "cell_type": "code",
   "execution_count": 78,
   "id": "a62c9242",
   "metadata": {},
   "outputs": [
    {
     "name": "stdout",
     "output_type": "stream",
     "text": [
      "Correlation of key features with SalePrice:\n",
      "HouseAge: -0.524\n",
      "AreaPerSpace: 0.551\n",
      "TotRmsAbvGrd: 0.538\n",
      "OverallQual: 0.796\n",
      "\n",
      "Sample data with new grouped features:\n",
      "   SalePrice  HouseAge AgeGroup NeighborhoodGroup OverallQual QualityGroup  \\\n",
      "0     208500         5      New            Middle           7      Premium   \n",
      "1     181500        31   Mature           Premium           6     Standard   \n",
      "2     223500         7      New            Middle           7      Premium   \n",
      "3     140000        91      Old            Middle           7      Premium   \n",
      "4     250000         8      New           Premium           8      Premium   \n",
      "\n",
      "   GrLivArea SizeGroup  \n",
      "0       1710    Medium  \n",
      "1       1262    Medium  \n",
      "2       1786    Medium  \n",
      "3       1717    Medium  \n",
      "4       2198     Large  \n"
     ]
    }
   ],
   "source": [
    "# Quick correlation analysis for hypothesis validation readiness\n",
    "print(\"Correlation of key features with SalePrice:\")\n",
    "key_features = ['HouseAge', 'AreaPerSpace', 'TotRmsAbvGrd', 'OverallQual']\n",
    "for feature in key_features:\n",
    "    if feature in df.columns:\n",
    "        corr = df[feature].corr(df['SalePrice'])\n",
    "        print(f\"{feature}: {corr:.3f}\")\n",
    "\n",
    "# Show sample of data with new grouped features\n",
    "print(\"\\nSample data with new grouped features:\")\n",
    "sample_cols = ['SalePrice', 'HouseAge', 'AgeGroup', 'NeighborhoodGroup', \n",
    "               'OverallQual', 'QualityGroup', 'GrLivArea', 'SizeGroup']\n",
    "available_cols = [col for col in sample_cols if col in df.columns]\n",
    "print(df[available_cols].head())\n"
   ]
  },
  {
   "cell_type": "code",
   "execution_count": 79,
   "id": "3251d608",
   "metadata": {},
   "outputs": [
    {
     "data": {
      "text/plain": [
       "(1458, 94)"
      ]
     },
     "execution_count": 79,
     "metadata": {},
     "output_type": "execute_result"
    }
   ],
   "source": [
    "df.shape\n"
   ]
  },
  {
   "cell_type": "code",
   "execution_count": 80,
   "id": "d6505e3b",
   "metadata": {},
   "outputs": [
    {
     "name": "stdout",
     "output_type": "stream",
     "text": [
      "✓ Dataset saved to ../../data/processed/feature_grouped_df.pkl\n",
      "✓ Ready for hypothesis validation with 94 features\n"
     ]
    }
   ],
   "source": [
    "# Save the dataframe with all grouped features\n",
    "output_path = '../../data/processed/feature_grouped_df.pkl'\n",
    "df.to_pickle(output_path)\n",
    "print(f\"✓ Dataset saved to {output_path}\")\n",
    "print(f\"✓ Ready for hypothesis validation with {df.shape[1]} features\")\n"
   ]
  }
 ],
 "metadata": {
  "kernelspec": {
   "display_name": "venv",
   "language": "python",
   "name": "python3"
  },
  "language_info": {
   "codemirror_mode": {
    "name": "ipython",
    "version": 3
   },
   "file_extension": ".py",
   "mimetype": "text/x-python",
   "name": "python",
   "nbconvert_exporter": "python",
   "pygments_lexer": "ipython3",
   "version": "3.12.3"
  }
 },
 "nbformat": 4,
 "nbformat_minor": 5
}
