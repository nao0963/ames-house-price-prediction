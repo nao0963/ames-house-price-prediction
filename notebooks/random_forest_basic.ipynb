{
 "cells": [
  {
   "cell_type": "code",
   "execution_count": 4,
   "id": "5b0b8a5b",
   "metadata": {},
   "outputs": [
    {
     "name": "stdout",
     "output_type": "stream",
     "text": [
      "데이터프레임 로드 완료\n",
      "데이터프레임 형태: (1460, 16)\n",
      "컬럼: ['OverallQual', 'GrLivArea', 'GarageCars', 'GarageArea', 'TotalBsmtSF', '1stFlrSF', 'TotRmsAbvGrd', 'EffectiveAge', 'Quality_x_Area', 'AvgRoomSize', 'IsNewBuild', 'TotalSF', 'GarageRatio', 'SalePrice', 'AboveGradeBath', 'BasementBath']\n",
      "\n",
      "X 형태: (1460, 15)\n",
      "y 형태: (1460,)\n",
      "\n",
      "=== 5-fold 교차 검증 결과 (수정됨) ===\n",
      "R² 평균: 0.8335 (±0.0475)\n",
      "RMSE 평균: 0.1605 (±0.0183)\n",
      "\n"
     ]
    }
   ],
   "source": [
    "import pandas as pd\n",
    "import pickle\n",
    "import numpy as np\n",
    "from sklearn.ensemble import RandomForestRegressor\n",
    "from sklearn.model_selection import cross_val_score, KFold\n",
    "from sklearn.metrics import mean_squared_error\n",
    "\n",
    "# df_selected_05.pkl 파일 불러오기\n",
    "with open('df_selected_05.pkl', 'rb') as f:\n",
    "    df = pickle.load(f)\n",
    "\n",
    "print(\"데이터프레임 로드 완료\")\n",
    "print(f\"데이터프레임 형태: {df.shape}\")\n",
    "print(f\"컬럼: {list(df.columns)}\")\n",
    "\n",
    "# X, y 분리 (SalePrice를 y로, 나머지를 X로)\n",
    "y = df['SalePrice']\n",
    "X = df.drop('SalePrice', axis=1)\n",
    "\n",
    "print(f\"\\nX 형태: {X.shape}\")\n",
    "print(f\"y 형태: {y.shape}\")\n",
    "\n",
    "# RandomForestRegressor 모델 생성\n",
    "rf_model = RandomForestRegressor(random_state=42)\n",
    "\n",
    "# KFold 교차검증 설정 (random_state로 재현가능성 보장)\n",
    "kfold = KFold(n_splits=5, shuffle=True, random_state=42)\n",
    "\n",
    "# 5-fold 교차검증으로 R² 스코어 계산\n",
    "r2_scores = cross_val_score(rf_model, X, y, cv=kfold, scoring='r2')\n",
    "\n",
    "# 5-fold 교차검증으로 RMSE 계산 (neg_mean_squared_error를 사용하고 루트를 씌움)\n",
    "mse_scores = cross_val_score(rf_model, X, y, cv=kfold, scoring='neg_mean_squared_error')\n",
    "rmse_scores = np.sqrt(-mse_scores)  # 음수를 양수로 변환 후 루트\n",
    "\n",
    "# 평균과 표준편차 계산\n",
    "r2_mean = r2_scores.mean()\n",
    "r2_std = r2_scores.std()\n",
    "rmse_mean = rmse_scores.mean()\n",
    "rmse_std = rmse_scores.std()\n",
    "\n",
    "# 결과 출력\n",
    "print(\"\\n=== 5-fold 교차 검증 결과 (수정됨) ===\")\n",
    "print(f\"R² 평균: {r2_mean:.4f} (±{r2_std:.4f})\")\n",
    "print(f\"RMSE 평균: {rmse_mean:.4f} (±{rmse_std:.4f})\")\n",
    "print()\n"
   ]
  }
 ],
 "metadata": {
  "kernelspec": {
   "display_name": "venv",
   "language": "python",
   "name": "python3"
  },
  "language_info": {
   "codemirror_mode": {
    "name": "ipython",
    "version": 3
   },
   "file_extension": ".py",
   "mimetype": "text/x-python",
   "name": "python",
   "nbconvert_exporter": "python",
   "pygments_lexer": "ipython3",
   "version": "3.12.3"
  }
 },
 "nbformat": 4,
 "nbformat_minor": 5
}
