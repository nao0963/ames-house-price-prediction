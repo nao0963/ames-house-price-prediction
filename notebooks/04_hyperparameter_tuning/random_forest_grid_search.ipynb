{
  "cells": [
    {
      "cell_type": "raw",
      "metadata": {
        "vscode": {
          "languageId": "raw"
        }
      },
      "source": [
        "# Random Forest 하이퍼파라미터 튜닝\n",
        "\n",
        "## 튜닝 전략\n",
        "1. **1단계**: 기본 파라미터 (n_estimators, max_depth)\n",
        "2. **2단계**: 과적합 제어 (min_samples_split, min_samples_leaf, max_features)  \n",
        "3. **3단계**: 세부 조정 (max_samples)\n",
        "\n",
        "각 단계별로 Grid Search를 수행하여 최적 파라미터를 찾아갑니다.\n"
      ]
    },
    {
      "cell_type": "code",
      "execution_count": null,
      "metadata": {},
      "outputs": [
        {
          "name": "stdout",
          "output_type": "stream",
          "text": [
            "데이터 형태: X (1460, 15), y (1460,)\n",
            "특성 수: 15\n"
          ]
        }
      ],
      "source": [
        "import pandas as pd\n",
        "import pickle\n",
        "import numpy as np\n",
        "from sklearn.ensemble import RandomForestRegressor\n",
        "from sklearn.model_selection import GridSearchCV, cross_val_score, KFold\n",
        "from sklearn.metrics import mean_squared_error, r2_score\n",
        "import time\n",
        "import warnings\n",
        "warnings.filterwarnings('ignore')\n",
        "\n",
        "# 데이터 로드\n",
        "with open('../../data/processed/df_selected_05.pkl', 'rb') as f:\n",
        "    df = pickle.load(f)\n",
        "\n",
        "# X, y 분리\n",
        "y = df['SalePrice']\n",
        "X = df.drop('SalePrice', axis=1)\n",
        "\n",
        "print(f\"데이터 형태: X {X.shape}, y {y.shape}\")\n",
        "print(f\"특성 수: {X.shape[1]}\")\n",
        "\n",
        "# 교차 검증 설정\n",
        "kfold = KFold(n_splits=5, shuffle=True, random_state=42)\n"
      ]
    },
    {
      "cell_type": "raw",
      "metadata": {
        "vscode": {
          "languageId": "raw"
        }
      },
      "source": [
        "## 기준선: 기본 모델 성능\n"
      ]
    },
    {
      "cell_type": "code",
      "execution_count": 2,
      "metadata": {},
      "outputs": [
        {
          "name": "stdout",
          "output_type": "stream",
          "text": [
            "=== 기본 모델 성능 ===\n",
            "R² 평균: 0.8335 (±0.0475)\n",
            "개별 R² 점수: [0.85634433 0.86162314 0.73870447 0.85165434 0.85910691]\n"
          ]
        }
      ],
      "source": [
        "# 기본 모델 성능 측정\n",
        "base_model = RandomForestRegressor(random_state=42)\n",
        "base_scores = cross_val_score(base_model, X, y, cv=kfold, scoring='r2')\n",
        "\n",
        "print(\"=== 기본 모델 성능 ===\")\n",
        "print(f\"R² 평균: {base_scores.mean():.4f} (±{base_scores.std():.4f})\")\n",
        "print(f\"개별 R² 점수: {base_scores}\")\n",
        "\n",
        "baseline_r2 = base_scores.mean()\n"
      ]
    },
    {
      "cell_type": "raw",
      "metadata": {
        "vscode": {
          "languageId": "raw"
        }
      },
      "source": [
        "## 1단계: 기본 파라미터 튜닝 (n_estimators, max_depth)\n"
      ]
    },
    {
      "cell_type": "code",
      "execution_count": 3,
      "metadata": {},
      "outputs": [
        {
          "name": "stdout",
          "output_type": "stream",
          "text": [
            "=== 1단계: 기본 파라미터 튜닝 ===\n",
            "n_estimators와 max_depth 최적화 중...\n",
            "Fitting 5 folds for each of 24 candidates, totalling 120 fits\n",
            "\n",
            "1단계 완료 시간: 37.92초\n",
            "최적 파라미터: {'max_depth': 10, 'n_estimators': 300}\n",
            "최적 R² 점수: 0.8365\n",
            "성능 향상: 0.0030\n"
          ]
        }
      ],
      "source": [
        "print(\"=== 1단계: 기본 파라미터 튜닝 ===\")\n",
        "print(\"n_estimators와 max_depth 최적화 중...\")\n",
        "\n",
        "# 1단계 파라미터 그리드\n",
        "param_grid_1 = {\n",
        "    'n_estimators': [100, 200, 300, 500],\n",
        "    'max_depth': [None, 10, 15, 20, 25, 30]\n",
        "}\n",
        "\n",
        "rf_1 = RandomForestRegressor(random_state=42, n_jobs=-1)\n",
        "grid_1 = GridSearchCV(\n",
        "    rf_1, param_grid_1, \n",
        "    cv=kfold, \n",
        "    scoring='r2',\n",
        "    n_jobs=-1,\n",
        "    verbose=1\n",
        ")\n",
        "\n",
        "start_time = time.time()\n",
        "grid_1.fit(X, y)\n",
        "end_time = time.time()\n",
        "\n",
        "print(f\"\\n1단계 완료 시간: {end_time - start_time:.2f}초\")\n",
        "print(f\"최적 파라미터: {grid_1.best_params_}\")\n",
        "print(f\"최적 R² 점수: {grid_1.best_score_:.4f}\")\n",
        "print(f\"성능 향상: {grid_1.best_score_ - baseline_r2:.4f}\")\n",
        "\n",
        "# 1단계 최적 파라미터 저장\n",
        "best_params_1 = grid_1.best_params_.copy()\n"
      ]
    },
    {
      "cell_type": "raw",
      "metadata": {
        "vscode": {
          "languageId": "raw"
        }
      },
      "source": [
        "## 2단계: 과적합 제어 파라미터 튜닝\n"
      ]
    },
    {
      "cell_type": "code",
      "execution_count": 4,
      "metadata": {},
      "outputs": [
        {
          "name": "stdout",
          "output_type": "stream",
          "text": [
            "\n",
            "=== 2단계: 과적합 제어 파라미터 튜닝 ===\n",
            "min_samples_split, min_samples_leaf, max_features 최적화 중...\n",
            "Fitting 5 folds for each of 80 candidates, totalling 400 fits\n",
            "\n",
            "2단계 완료 시간: 61.50초\n",
            "최적 파라미터: {'max_depth': 10, 'max_features': 0.5, 'min_samples_leaf': 4, 'min_samples_split': 2, 'n_estimators': 300}\n",
            "최적 R² 점수: 0.8427\n",
            "1단계 대비 향상: 0.0062\n",
            "기준선 대비 향상: 0.0092\n"
          ]
        }
      ],
      "source": [
        "print(\"\\n=== 2단계: 과적합 제어 파라미터 튜닝 ===\")\n",
        "print(\"min_samples_split, min_samples_leaf, max_features 최적화 중...\")\n",
        "\n",
        "# 2단계 파라미터 그리드 (1단계 최적값 + 새로운 파라미터들)\n",
        "param_grid_2 = {\n",
        "    'n_estimators': [best_params_1['n_estimators']],\n",
        "    'max_depth': [best_params_1['max_depth']],\n",
        "    'min_samples_split': [2, 5, 10, 15],\n",
        "    'min_samples_leaf': [1, 2, 4, 6],\n",
        "    'max_features': ['sqrt', 'log2', 0.5, 0.7, 1.0]\n",
        "}\n",
        "\n",
        "rf_2 = RandomForestRegressor(random_state=42, n_jobs=-1)\n",
        "grid_2 = GridSearchCV(\n",
        "    rf_2, param_grid_2,\n",
        "    cv=kfold,\n",
        "    scoring='r2',\n",
        "    n_jobs=-1,\n",
        "    verbose=1\n",
        ")\n",
        "\n",
        "start_time = time.time()\n",
        "grid_2.fit(X, y)\n",
        "end_time = time.time()\n",
        "\n",
        "print(f\"\\n2단계 완료 시간: {end_time - start_time:.2f}초\")\n",
        "print(f\"최적 파라미터: {grid_2.best_params_}\")\n",
        "print(f\"최적 R² 점수: {grid_2.best_score_:.4f}\")\n",
        "print(f\"1단계 대비 향상: {grid_2.best_score_ - grid_1.best_score_:.4f}\")\n",
        "print(f\"기준선 대비 향상: {grid_2.best_score_ - baseline_r2:.4f}\")\n",
        "\n",
        "# 2단계 최적 파라미터 저장\n",
        "best_params_2 = grid_2.best_params_.copy()\n"
      ]
    },
    {
      "cell_type": "raw",
      "metadata": {
        "vscode": {
          "languageId": "raw"
        }
      },
      "source": [
        "## 3단계: 세부 조정 (max_samples)\n"
      ]
    },
    {
      "cell_type": "code",
      "execution_count": 5,
      "metadata": {},
      "outputs": [
        {
          "name": "stdout",
          "output_type": "stream",
          "text": [
            "\n",
            "=== 3단계: 세부 조정 ===\n",
            "max_samples 최적화 중...\n",
            "Fitting 5 folds for each of 4 candidates, totalling 20 fits\n",
            "\n",
            "3단계 완료 시간: 2.52초\n",
            "최적 파라미터: {'max_depth': 10, 'max_features': 0.5, 'max_samples': 0.7, 'min_samples_leaf': 4, 'min_samples_split': 2, 'n_estimators': 300}\n",
            "최적 R² 점수: 0.8428\n",
            "2단계 대비 향상: 0.0001\n",
            "기준선 대비 향상: 0.0093\n"
          ]
        }
      ],
      "source": [
        "print(\"\\n=== 3단계: 세부 조정 ===\")\n",
        "print(\"max_samples 최적화 중...\")\n",
        "\n",
        "# 3단계 파라미터 그리드\n",
        "param_grid_3 = {\n",
        "    'n_estimators': [best_params_2['n_estimators']],\n",
        "    'max_depth': [best_params_2['max_depth']],\n",
        "    'min_samples_split': [best_params_2['min_samples_split']],\n",
        "    'min_samples_leaf': [best_params_2['min_samples_leaf']],\n",
        "    'max_features': [best_params_2['max_features']],\n",
        "    'max_samples': [0.7, 0.8, 0.9, 1.0]\n",
        "}\n",
        "\n",
        "rf_3 = RandomForestRegressor(random_state=42, n_jobs=-1)\n",
        "grid_3 = GridSearchCV(\n",
        "    rf_3, param_grid_3,\n",
        "    cv=kfold,\n",
        "    scoring='r2',\n",
        "    n_jobs=-1,\n",
        "    verbose=1\n",
        ")\n",
        "\n",
        "start_time = time.time()\n",
        "grid_3.fit(X, y)\n",
        "end_time = time.time()\n",
        "\n",
        "print(f\"\\n3단계 완료 시간: {end_time - start_time:.2f}초\")\n",
        "print(f\"최적 파라미터: {grid_3.best_params_}\")\n",
        "print(f\"최적 R² 점수: {grid_3.best_score_:.4f}\")\n",
        "print(f\"2단계 대비 향상: {grid_3.best_score_ - grid_2.best_score_:.4f}\")\n",
        "print(f\"기준선 대비 향상: {grid_3.best_score_ - baseline_r2:.4f}\")\n",
        "\n",
        "# 최종 최적 파라미터\n",
        "final_best_params = grid_3.best_params_.copy()\n"
      ]
    },
    {
      "cell_type": "raw",
      "metadata": {
        "vscode": {
          "languageId": "raw"
        }
      },
      "source": [
        "## 최종 모델 검증 및 비교\n"
      ]
    },
    {
      "cell_type": "code",
      "execution_count": 6,
      "metadata": {},
      "outputs": [
        {
          "name": "stdout",
          "output_type": "stream",
          "text": [
            "\n",
            "=== 최종 결과 비교 ===\n",
            "기준선 (기본 모델):\n",
            "  R² 평균: 0.8335\n",
            "\n",
            "최종 최적화 모델:\n",
            "  R² 평균: 0.8428 (±0.0370)\n",
            "  RMSE 평균: 0.1566 (±0.0168)\n",
            "  개별 R² 점수: [0.85081276 0.86895611 0.77032788 0.85421318 0.86971823]\n",
            "\n",
            "성능 향상:\n",
            "  R² 향상: 0.0093\n",
            "  향상률: 1.12%\n",
            "\n",
            "최종 최적 하이퍼파라미터:\n",
            "  max_depth: 10\n",
            "  max_features: 0.5\n",
            "  max_samples: 0.7\n",
            "  min_samples_leaf: 4\n",
            "  min_samples_split: 2\n",
            "  n_estimators: 300\n"
          ]
        }
      ],
      "source": [
        "print(\"\\n=== 최종 결과 비교 ===\")\n",
        "\n",
        "# 최종 최적 모델로 상세 검증\n",
        "final_model = RandomForestRegressor(**final_best_params, random_state=42)\n",
        "final_r2_scores = cross_val_score(final_model, X, y, cv=kfold, scoring='r2')\n",
        "final_mse_scores = cross_val_score(final_model, X, y, cv=kfold, scoring='neg_mean_squared_error')\n",
        "final_rmse_scores = np.sqrt(-final_mse_scores)\n",
        "\n",
        "print(f\"기준선 (기본 모델):\")\n",
        "print(f\"  R² 평균: {baseline_r2:.4f}\")\n",
        "\n",
        "print(f\"\\n최종 최적화 모델:\")\n",
        "print(f\"  R² 평균: {final_r2_scores.mean():.4f} (±{final_r2_scores.std():.4f})\")\n",
        "print(f\"  RMSE 평균: {final_rmse_scores.mean():.4f} (±{final_rmse_scores.std():.4f})\")\n",
        "print(f\"  개별 R² 점수: {final_r2_scores}\")\n",
        "\n",
        "print(f\"\\n성능 향상:\")\n",
        "print(f\"  R² 향상: {final_r2_scores.mean() - baseline_r2:.4f}\")\n",
        "print(f\"  향상률: {((final_r2_scores.mean() - baseline_r2) / baseline_r2 * 100):.2f}%\")\n",
        "\n",
        "print(f\"\\n최종 최적 하이퍼파라미터:\")\n",
        "for param, value in final_best_params.items():\n",
        "    print(f\"  {param}: {value}\")\n"
      ]
    },
    {
      "cell_type": "raw",
      "metadata": {
        "vscode": {
          "languageId": "raw"
        }
      },
      "source": [
        "## 특성 중요도 분석\n"
      ]
    },
    {
      "cell_type": "code",
      "execution_count": 7,
      "metadata": {},
      "outputs": [
        {
          "name": "stdout",
          "output_type": "stream",
          "text": [
            "\n",
            "=== 특성 중요도 (Top 10) ===\n",
            "       feature  importance\n",
            "Quality_x_Area    0.374679\n",
            "   OverallQual    0.189914\n",
            "       TotalSF    0.188236\n",
            "     GrLivArea    0.040941\n",
            "  EffectiveAge    0.036731\n",
            "   TotalBsmtSF    0.034011\n",
            "    GarageCars    0.030231\n",
            "    GarageArea    0.028985\n",
            "AboveGradeBath    0.023110\n",
            "      1stFlrSF    0.019184\n",
            "\n",
            "최적화된 모델이 'optimized_random_forest_model.pkl'로 저장되었습니다.\n"
          ]
        }
      ],
      "source": [
        "# 최적 모델로 특성 중요도 분석\n",
        "final_model.fit(X, y)\n",
        "feature_importance = pd.DataFrame({\n",
        "    'feature': X.columns,\n",
        "    'importance': final_model.feature_importances_\n",
        "}).sort_values('importance', ascending=False)\n",
        "\n",
        "print(\"\\n=== 특성 중요도 (Top 10) ===\")\n",
        "print(feature_importance.head(10).to_string(index=False))\n",
        "\n",
        "# 최적 모델 저장\n",
        "with open('../../models/optimized_random_forest_model.pkl', 'wb') as f:\n",
        "    pickle.dump(final_model, f)\n",
        "    \n",
        "print(\"\\n최적화된 모델이 '../../models/optimized_random_forest_model.pkl'로 저장되었습니다.\")\n"
      ]
    },
    {
      "cell_type": "raw",
      "metadata": {
        "vscode": {
          "languageId": "raw"
        }
      },
      "source": [
        "## 튜닝 요약 및 권장사항\n",
        "\n",
        "### 튜닝 전략의 효과성\n",
        "1. **단계별 접근법**: 각 단계에서 점진적 개선 확인\n",
        "2. **계산 효율성**: 중요 파라미터부터 순차적 최적화\n",
        "3. **과적합 방지**: 검증 점수로 일반화 성능 확인\n",
        "\n",
        "### 추가 개선 방안\n",
        "1. **Random Search**: 더 넓은 탐색 공간\n",
        "2. **Bayesian Optimization**: 효율적인 하이퍼파라미터 탐색\n",
        "3. **앙상블**: 다른 모델과의 조합\n",
        "4. **특성 엔지니어링**: 새로운 특성 생성\n",
        "\n",
        "### Random Forest 파라미터별 특징\n",
        "- **n_estimators**: 트리 개수 ↑ → 성능 ↑, 계산시간 ↑\n",
        "- **max_depth**: 깊이 제한 → 과적합 방지\n",
        "- **min_samples_split**: 분할 조건 강화 → 과적합 방지\n",
        "- **min_samples_leaf**: 리프 노드 크기 제한 → 일반화 성능 ↑\n",
        "- **max_features**: 특성 수 제한 → 다양성 증가, 과적합 방지\n",
        "- **max_samples**: 샘플링 비율 → 다양성과 안정성 균형\n"
      ]
    }
  ],
  "metadata": {
    "kernelspec": {
      "display_name": "venv",
      "language": "python",
      "name": "python3"
    },
    "language_info": {
      "codemirror_mode": {
        "name": "ipython",
        "version": 3
      },
      "file_extension": ".py",
      "mimetype": "text/x-python",
      "name": "python",
      "nbconvert_exporter": "python",
      "pygments_lexer": "ipython3",
      "version": "3.12.3"
    }
  },
  "nbformat": 4,
  "nbformat_minor": 2
}
