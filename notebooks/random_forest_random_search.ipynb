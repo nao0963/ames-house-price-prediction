{
  "cells": [
    {
      "cell_type": "raw",
      "metadata": {
        "vscode": {
          "languageId": "raw"
        }
      },
      "source": [
        "# Random Forest 빠른 하이퍼파라미터 튜닝 (Random Search)\n",
        "\n",
        "## Random Search vs Grid Search\n",
        "- **Grid Search**: 모든 조합을 체계적으로 탐색 (느리지만 확실)\n",
        "- **Random Search**: 무작위로 파라미터 조합 탐색 (빠르고 효율적)\n",
        "\n",
        "시간이 제한적일 때 Random Search가 더 실용적입니다.\n"
      ]
    },
    {
      "cell_type": "code",
      "execution_count": 1,
      "metadata": {},
      "outputs": [
        {
          "name": "stdout",
          "output_type": "stream",
          "text": [
            "데이터 형태: X (1460, 15), y (1460,)\n"
          ]
        }
      ],
      "source": [
        "import pandas as pd\n",
        "import pickle\n",
        "import numpy as np\n",
        "from sklearn.ensemble import RandomForestRegressor\n",
        "from sklearn.model_selection import RandomizedSearchCV, cross_val_score, KFold\n",
        "from sklearn.metrics import mean_squared_error, r2_score\n",
        "from scipy.stats import randint, uniform\n",
        "import time\n",
        "import warnings\n",
        "warnings.filterwarnings('ignore')\n",
        "\n",
        "# 데이터 로드\n",
        "with open('df_selected_05.pkl', 'rb') as f:\n",
        "    df = pickle.load(f)\n",
        "\n",
        "# X, y 분리\n",
        "y = df['SalePrice']\n",
        "X = df.drop('SalePrice', axis=1)\n",
        "\n",
        "print(f\"데이터 형태: X {X.shape}, y {y.shape}\")\n",
        "\n",
        "# 교차 검증 설정\n",
        "kfold = KFold(n_splits=5, shuffle=True, random_state=42)\n"
      ]
    },
    {
      "cell_type": "raw",
      "metadata": {
        "vscode": {
          "languageId": "raw"
        }
      },
      "source": [
        "## Random Search 파라미터 분포 정의\n"
      ]
    },
    {
      "cell_type": "code",
      "execution_count": 2,
      "metadata": {},
      "outputs": [
        {
          "name": "stdout",
          "output_type": "stream",
          "text": [
            "=== 파라미터 분포 ===\n",
            "n_estimators: <scipy.stats._distn_infrastructure.rv_discrete_frozen object at 0x7787bcd4a9c0>\n",
            "max_depth: [None, 5, 10, 15, 20, 25, 30, 35, 40, 45, 50]\n",
            "min_samples_split: <scipy.stats._distn_infrastructure.rv_discrete_frozen object at 0x7787bc9619a0>\n",
            "min_samples_leaf: <scipy.stats._distn_infrastructure.rv_discrete_frozen object at 0x7787bb1cfa40>\n",
            "max_features: ['sqrt', 'log2', 0.3, 0.5, 0.7, 0.9, 1.0]\n",
            "max_samples: <scipy.stats._distn_infrastructure.rv_continuous_frozen object at 0x7787bb1cf050>\n",
            "bootstrap: [True, False]\n",
            "\n",
            "총 가능한 조합: 매우 많음 (연속 분포 포함)\n",
            "Random Search로 100회 시도 예정\n"
          ]
        }
      ],
      "source": [
        "# Random Search를 위한 파라미터 분포 정의\n",
        "param_distributions = {\n",
        "    'n_estimators': randint(100, 1000),           # 100~999 사이 정수\n",
        "    'max_depth': [None] + list(range(5, 51, 5)),  # None 또는 5~50 (5 간격)\n",
        "    'min_samples_split': randint(2, 21),          # 2~20 사이 정수\n",
        "    'min_samples_leaf': randint(1, 11),           # 1~10 사이 정수\n",
        "    'max_features': ['sqrt', 'log2'] + [0.3, 0.5, 0.7, 0.9, 1.0],  # 다양한 특성 비율\n",
        "    'max_samples': uniform(0.6, 0.4),             # 0.6~1.0 사이 실수\n",
        "    'bootstrap': [True, False]                     # 부트스트랩 사용 여부\n",
        "}\n",
        "\n",
        "print(\"=== 파라미터 분포 ===\")\n",
        "for param, distribution in param_distributions.items():\n",
        "    print(f\"{param}: {distribution}\")\n",
        "    \n",
        "print(f\"\\n총 가능한 조합: 매우 많음 (연속 분포 포함)\")\n",
        "print(f\"Random Search로 100회 시도 예정\")\n"
      ]
    },
    {
      "cell_type": "raw",
      "metadata": {
        "vscode": {
          "languageId": "raw"
        }
      },
      "source": [
        "## Random Search 실행\n"
      ]
    },
    {
      "cell_type": "code",
      "execution_count": 3,
      "metadata": {},
      "outputs": [
        {
          "name": "stdout",
          "output_type": "stream",
          "text": [
            "기준선 R² 점수: 0.8335\n",
            "\n",
            "=== Random Search 시작 ===\n",
            "Fitting 5 folds for each of 100 candidates, totalling 500 fits\n",
            "\n",
            "Random Search 완료!\n",
            "소요 시간: 77.63초\n",
            "최적 R² 점수: 0.8426\n",
            "성능 향상: 0.0091\n",
            "향상률: 1.09%\n"
          ]
        }
      ],
      "source": [
        "# 기준선 모델 성능\n",
        "base_model = RandomForestRegressor(random_state=42)\n",
        "base_scores = cross_val_score(base_model, X, y, cv=kfold, scoring='r2')\n",
        "baseline_r2 = base_scores.mean()\n",
        "\n",
        "print(f\"기준선 R² 점수: {baseline_r2:.4f}\")\n",
        "\n",
        "# Random Search 설정\n",
        "rf = RandomForestRegressor(random_state=42, n_jobs=-1)\n",
        "random_search = RandomizedSearchCV(\n",
        "    rf, \n",
        "    param_distributions,\n",
        "    n_iter=100,          # 100회 시도\n",
        "    cv=kfold,\n",
        "    scoring='r2',\n",
        "    n_jobs=-1,\n",
        "    verbose=1,\n",
        "    random_state=42\n",
        ")\n",
        "\n",
        "print(\"\\n=== Random Search 시작 ===\")\n",
        "start_time = time.time()\n",
        "random_search.fit(X, y)\n",
        "end_time = time.time()\n",
        "\n",
        "print(f\"\\nRandom Search 완료!\")\n",
        "print(f\"소요 시간: {end_time - start_time:.2f}초\")\n",
        "print(f\"최적 R² 점수: {random_search.best_score_:.4f}\")\n",
        "print(f\"성능 향상: {random_search.best_score_ - baseline_r2:.4f}\")\n",
        "print(f\"향상률: {((random_search.best_score_ - baseline_r2) / baseline_r2 * 100):.2f}%\")\n"
      ]
    },
    {
      "cell_type": "raw",
      "metadata": {
        "vscode": {
          "languageId": "raw"
        }
      },
      "source": [
        "## 최적 파라미터 분석\n"
      ]
    },
    {
      "cell_type": "code",
      "execution_count": 4,
      "metadata": {},
      "outputs": [
        {
          "name": "stdout",
          "output_type": "stream",
          "text": [
            "=== 최적 하이퍼파라미터 ===\n",
            "bootstrap: True\n",
            "max_depth: None\n",
            "max_features: 0.7\n",
            "max_samples: 0.6920741072966221\n",
            "min_samples_leaf: 3\n",
            "min_samples_split: 5\n",
            "n_estimators: 646\n",
            "\n",
            "=== 상위 10개 결과 ===\n",
            " mean_test_score  std_test_score  param_n_estimators param_max_depth  param_min_samples_split  param_min_samples_leaf param_max_features  param_max_samples  param_bootstrap\n",
            "        0.842583        0.039551                 646            None                        5                       3                0.7           0.692074             True\n",
            "        0.842567        0.038024                 739              10                       10                       4                0.5           0.858069             True\n",
            "        0.842408        0.035591                 666              50                       13                       3                0.3           0.759944             True\n",
            "        0.842321        0.038564                 769              35                       11                       2                0.5           0.653098             True\n",
            "        0.842233        0.037702                 464              10                        7                       6                0.9           0.706081             True\n",
            "        0.842215        0.037737                 185              30                        6                       3                0.3           0.699092             True\n",
            "        0.842022        0.036378                 570            None                       17                       3                0.7           0.878770             True\n",
            "        0.842011        0.036660                 445              25                       20                       4                0.7           0.943344             True\n",
            "        0.841911        0.037705                 355              10                        2                       5                0.5           0.941204             True\n",
            "        0.841738        0.038989                 921              10                        3                       2               sqrt           0.602025             True\n",
            "\n",
            "=== 최종 검증 결과 ===\n",
            "R² 평균: 0.8426 (±0.0396)\n",
            "개별 폴드 점수: [0.85380408 0.86856958 0.76464055 0.85534258 0.87055688]\n"
          ]
        }
      ],
      "source": [
        "print(\"=== 최적 하이퍼파라미터 ===\")\n",
        "best_params = random_search.best_params_\n",
        "for param, value in best_params.items():\n",
        "    print(f\"{param}: {value}\")\n",
        "\n",
        "# 상위 10개 결과 분석\n",
        "results_df = pd.DataFrame(random_search.cv_results_)\n",
        "top_10 = results_df.nlargest(10, 'mean_test_score')[\n",
        "    ['mean_test_score', 'std_test_score'] + [f'param_{p}' for p in param_distributions.keys()]\n",
        "]\n",
        "\n",
        "print(\"\\n=== 상위 10개 결과 ===\")\n",
        "print(top_10.to_string(index=False))\n",
        "\n",
        "# 최종 모델 검증\n",
        "final_model = RandomForestRegressor(**best_params, random_state=42)\n",
        "final_scores = cross_val_score(final_model, X, y, cv=kfold, scoring='r2')\n",
        "\n",
        "print(f\"\\n=== 최종 검증 결과 ===\")\n",
        "print(f\"R² 평균: {final_scores.mean():.4f} (±{final_scores.std():.4f})\")\n",
        "print(f\"개별 폴드 점수: {final_scores}\")\n"
      ]
    },
    {
      "cell_type": "code",
      "execution_count": 5,
      "metadata": {},
      "outputs": [
        {
          "name": "stdout",
          "output_type": "stream",
          "text": [
            "\n",
            "=== 특성 중요도 (Top 5) ===\n",
            "       feature  importance\n",
            "Quality_x_Area    0.470718\n",
            "       TotalSF    0.171059\n",
            "   OverallQual    0.155984\n",
            "  EffectiveAge    0.037283\n",
            "   TotalBsmtSF    0.033931\n",
            "\n",
            "빠른 튜닝 모델이 'quick_tuned_rf_model.pkl'로 저장되었습니다.\n"
          ]
        }
      ],
      "source": [
        "# 모델 저장\n",
        "final_model.fit(X, y)\n",
        "with open('quick_tuned_rf_model.pkl', 'wb') as f:\n",
        "    pickle.dump(final_model, f)\n",
        "\n",
        "# 특성 중요도\n",
        "feature_importance = pd.DataFrame({\n",
        "    'feature': X.columns,\n",
        "    'importance': final_model.feature_importances_\n",
        "}).sort_values('importance', ascending=False)\n",
        "\n",
        "print(\"\\n=== 특성 중요도 (Top 5) ===\")\n",
        "print(feature_importance.head().to_string(index=False))\n",
        "\n",
        "print(\"\\n빠른 튜닝 모델이 'quick_tuned_rf_model.pkl'로 저장되었습니다.\")\n"
      ]
    }
  ],
  "metadata": {
    "kernelspec": {
      "display_name": "venv",
      "language": "python",
      "name": "python3"
    },
    "language_info": {
      "codemirror_mode": {
        "name": "ipython",
        "version": 3
      },
      "file_extension": ".py",
      "mimetype": "text/x-python",
      "name": "python",
      "nbconvert_exporter": "python",
      "pygments_lexer": "ipython3",
      "version": "3.12.3"
    }
  },
  "nbformat": 4,
  "nbformat_minor": 2
}
